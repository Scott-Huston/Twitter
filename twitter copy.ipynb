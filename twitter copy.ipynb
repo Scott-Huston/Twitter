{
 "nbformat": 4,
 "nbformat_minor": 2,
 "metadata": {
  "language_info": {
   "name": "python",
   "codemirror_mode": {
    "name": "ipython",
    "version": 3
   },
   "version": "3.7.5"
  },
  "orig_nbformat": 2,
  "file_extension": ".py",
  "mimetype": "text/x-python",
  "name": "python",
  "npconvert_exporter": "python",
  "pygments_lexer": "ipython3",
  "version": 3
 },
 "cells": [
  {
   "cell_type": "code",
   "execution_count": 52,
   "metadata": {},
   "outputs": [],
   "source": [
    "import tweepy\n",
    "\n",
    "auth = tweepy.OAuthHandler('QCgP9SFyfCBgsjNqgzuV1ylKc', 'WY9uBrRpYNkZQWlr1gTJY8vjSkxzI0BFe5MZww9ctgkCFqwLSQ')\n",
    "auth.set_access_token('2232533815-yFXpmgQOr5zOnUKNaYs2cXTxl46PbHzO2YYhYD4', 'EyyJ3tc1xeJaoSfdqwZcyT7AiDwCxE1wcvhNVJLCDVneY')\n",
    "\n",
    "api = tweepy.API(auth)"
   ]
  },
  {
   "cell_type": "code",
   "execution_count": 57,
   "metadata": {},
   "outputs": [],
   "source": [
    "followers = api.followers('genuine_doubt')"
   ]
  },
  {
   "cell_type": "code",
   "execution_count": 1,
   "metadata": {},
   "outputs": [
    {
     "ename": "NameError",
     "evalue": "name 'api' is not defined",
     "output_type": "error",
     "traceback": [
      "\u001b[0;31m---------------------------------------------------------------------------\u001b[0m",
      "\u001b[0;31mNameError\u001b[0m                                 Traceback (most recent call last)",
      "\u001b[0;32m<ipython-input-1-4bdb5e3688a4>\u001b[0m in \u001b[0;36m<module>\u001b[0;34m\u001b[0m\n\u001b[0;32m----> 1\u001b[0;31m \u001b[0mtimeline\u001b[0m \u001b[0;34m=\u001b[0m \u001b[0mapi\u001b[0m\u001b[0;34m.\u001b[0m\u001b[0muser_timeline\u001b[0m\u001b[0;34m(\u001b[0m\u001b[0;34m'genuine_doubt'\u001b[0m\u001b[0;34m)\u001b[0m\u001b[0;34m\u001b[0m\u001b[0;34m\u001b[0m\u001b[0m\n\u001b[0m",
      "\u001b[0;31mNameError\u001b[0m: name 'api' is not defined"
     ]
    }
   ],
   "source": [
    "timeline = api.user_timeline('genuine_doubt')"
   ]
  },
  {
   "cell_type": "code",
   "execution_count": null,
   "metadata": {},
   "outputs": [],
   "source": []
  },
  {
   "cell_type": "code",
   "execution_count": 61,
   "metadata": {},
   "outputs": [],
   "source": [
    "from pattern.web import Twitter"
   ]
  },
  {
   "cell_type": "code",
   "execution_count": 62,
   "metadata": {},
   "outputs": [],
   "source": [
    "twitter = Twitter()"
   ]
  },
  {
   "cell_type": "code",
   "execution_count": 77,
   "metadata": {},
   "outputs": [],
   "source": [
    "search = []\n",
    "for tweet in twitter.profile('@genuine_doubt'):\n",
    "    search.append(tweet)"
   ]
  },
  {
   "cell_type": "code",
   "execution_count": 75,
   "metadata": {},
   "outputs": [
    {
     "data": {
      "text/plain": "dict_items([('url', 'https://twitter.com/david_doswell/status/1196886943528706048'), ('id', '1196886943528706048'), ('title', ''), ('text', '@genuine_doubt @eriktorenberg Status is 100% zero sum. Status is not about identity within a group but leverage.'), ('language', 'en'), ('author', 'david_doswell'), ('date', 'Tue Nov 19 20:24:19 +0000 2019'), ('votes', 0), ('shares', 0), ('comments', 0), ('profile', 'http://pbs.twimg.com/profile_images/1169089013765918720/qBfAVpjm_normal.jpg')])"
     },
     "execution_count": 75,
     "metadata": {},
     "output_type": "execute_result"
    }
   ],
   "source": [
    "twitter."
   ]
  },
  {
   "cell_type": "code",
   "execution_count": 78,
   "metadata": {},
   "outputs": [
    {
     "data": {
      "text/plain": "Result({'url': 'https://www.twitter.com/genuine_doubt', 'id': '1097624696319660032', 'text': 'Currently learning about data science at @lambdaschool. Previously @thepillclub.', 'date': 'Mon Feb 18 22:31:35 +0000 2019', 'handle': 'genuine_doubt', 'name': 'Scott Huston', 'locale': 'Redwood City, CA', 'picture': 'http://pbs.twimg.com/profile_images/1175523991278145536/JSvzpayk_normal.jpg', 'friends': 3171, 'posts': 246})"
     },
     "execution_count": 78,
     "metadata": {},
     "output_type": "execute_result"
    }
   ],
   "source": [
    "search[0]"
   ]
  },
  {
   "cell_type": "code",
   "execution_count": null,
   "metadata": {},
   "outputs": [],
   "source": []
  }
 ]
}