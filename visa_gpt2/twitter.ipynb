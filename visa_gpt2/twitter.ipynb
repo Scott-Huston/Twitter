{
 "cells": [
  {
   "cell_type": "code",
   "execution_count": 4,
   "metadata": {},
   "outputs": [
    {
     "output_type": "stream",
     "name": "stdout",
     "text": "Requirement already satisfied: tweepy in /Applications/anaconda3/envs/covid/lib/python3.7/site-packages (3.8.0)\nRequirement already satisfied: requests-oauthlib>=0.7.0 in /Applications/anaconda3/envs/covid/lib/python3.7/site-packages (from tweepy) (1.3.0)\nRequirement already satisfied: six>=1.10.0 in /Applications/anaconda3/envs/covid/lib/python3.7/site-packages (from tweepy) (1.14.0)\nRequirement already satisfied: requests>=2.11.1 in /Applications/anaconda3/envs/covid/lib/python3.7/site-packages (from tweepy) (2.23.0)\nRequirement already satisfied: PySocks>=1.5.7 in /Applications/anaconda3/envs/covid/lib/python3.7/site-packages (from tweepy) (1.7.1)\nRequirement already satisfied: oauthlib>=3.0.0 in /Applications/anaconda3/envs/covid/lib/python3.7/site-packages (from requests-oauthlib>=0.7.0->tweepy) (3.1.0)\nRequirement already satisfied: certifi>=2017.4.17 in /Applications/anaconda3/envs/covid/lib/python3.7/site-packages (from requests>=2.11.1->tweepy) (2019.11.28)\nRequirement already satisfied: urllib3!=1.25.0,!=1.25.1,<1.26,>=1.21.1 in /Applications/anaconda3/envs/covid/lib/python3.7/site-packages (from requests>=2.11.1->tweepy) (1.25.9)\nRequirement already satisfied: chardet<4,>=3.0.2 in /Applications/anaconda3/envs/covid/lib/python3.7/site-packages (from requests>=2.11.1->tweepy) (3.0.4)\nRequirement already satisfied: idna<3,>=2.5 in /Applications/anaconda3/envs/covid/lib/python3.7/site-packages (from requests>=2.11.1->tweepy) (2.9)\nCollecting spacy\n  Downloading spacy-2.2.4-cp37-cp37m-macosx_10_9_x86_64.whl (10.5 MB)\n\u001b[K     |████████████████████████████████| 10.5 MB 6.1 MB/s \n\u001b[?25hRequirement already satisfied: setuptools in /Applications/anaconda3/envs/covid/lib/python3.7/site-packages (from spacy) (46.1.1.post20200323)\nRequirement already satisfied: numpy>=1.15.0 in /Applications/anaconda3/envs/covid/lib/python3.7/site-packages (from spacy) (1.18.4)\nCollecting srsly<1.1.0,>=1.0.2\n  Downloading srsly-1.0.2-cp37-cp37m-macosx_10_9_x86_64.whl (182 kB)\n\u001b[K     |████████████████████████████████| 182 kB 2.8 MB/s \n\u001b[?25hCollecting wasabi<1.1.0,>=0.4.0\n  Downloading wasabi-0.6.0-py3-none-any.whl (20 kB)\nCollecting murmurhash<1.1.0,>=0.28.0\n  Using cached murmurhash-1.0.2-cp37-cp37m-macosx_10_6_intel.macosx_10_9_intel.macosx_10_9_x86_64.macosx_10_10_intel.macosx_10_10_x86_64.whl (34 kB)\nCollecting thinc==7.4.0\n  Downloading thinc-7.4.0-cp37-cp37m-macosx_10_9_x86_64.whl (2.2 MB)\n\u001b[K     |████████████████████████████████| 2.2 MB 7.0 MB/s \n\u001b[?25hCollecting cymem<2.1.0,>=2.0.2\n  Using cached cymem-2.0.3-cp37-cp37m-macosx_10_6_intel.whl (54 kB)\nCollecting preshed<3.1.0,>=3.0.2\n  Using cached preshed-3.0.2-cp37-cp37m-macosx_10_6_intel.macosx_10_9_intel.macosx_10_9_x86_64.macosx_10_10_intel.macosx_10_10_x86_64.whl (211 kB)\nCollecting catalogue<1.1.0,>=0.0.7\n  Downloading catalogue-1.0.0-py2.py3-none-any.whl (7.7 kB)\nRequirement already satisfied: requests<3.0.0,>=2.13.0 in /Applications/anaconda3/envs/covid/lib/python3.7/site-packages (from spacy) (2.23.0)\nCollecting plac<1.2.0,>=0.9.6\n  Using cached plac-1.1.3-py2.py3-none-any.whl (20 kB)\nCollecting blis<0.5.0,>=0.4.0\n  Using cached blis-0.4.1-cp37-cp37m-macosx_10_6_intel.macosx_10_9_intel.macosx_10_9_x86_64.macosx_10_10_intel.macosx_10_10_x86_64.whl (4.0 MB)\nCollecting tqdm<5.0.0,>=4.38.0\n  Downloading tqdm-4.46.1-py2.py3-none-any.whl (63 kB)\n\u001b[K     |████████████████████████████████| 63 kB 3.6 MB/s \n\u001b[?25hRequirement already satisfied: importlib-metadata>=0.20; python_version < \"3.8\" in /Applications/anaconda3/envs/covid/lib/python3.7/site-packages (from catalogue<1.1.0,>=0.0.7->spacy) (1.6.0)\nRequirement already satisfied: idna<3,>=2.5 in /Applications/anaconda3/envs/covid/lib/python3.7/site-packages (from requests<3.0.0,>=2.13.0->spacy) (2.9)\nRequirement already satisfied: urllib3!=1.25.0,!=1.25.1,<1.26,>=1.21.1 in /Applications/anaconda3/envs/covid/lib/python3.7/site-packages (from requests<3.0.0,>=2.13.0->spacy) (1.25.9)\nRequirement already satisfied: chardet<4,>=3.0.2 in /Applications/anaconda3/envs/covid/lib/python3.7/site-packages (from requests<3.0.0,>=2.13.0->spacy) (3.0.4)\nRequirement already satisfied: certifi>=2017.4.17 in /Applications/anaconda3/envs/covid/lib/python3.7/site-packages (from requests<3.0.0,>=2.13.0->spacy) (2019.11.28)\nRequirement already satisfied: zipp>=0.5 in /Applications/anaconda3/envs/covid/lib/python3.7/site-packages (from importlib-metadata>=0.20; python_version < \"3.8\"->catalogue<1.1.0,>=0.0.7->spacy) (3.1.0)\nInstalling collected packages: srsly, wasabi, murmurhash, cymem, preshed, blis, tqdm, catalogue, plac, thinc, spacy\nSuccessfully installed blis-0.4.1 catalogue-1.0.0 cymem-2.0.3 murmurhash-1.0.2 plac-1.1.3 preshed-3.0.2 spacy-2.2.4 srsly-1.0.2 thinc-7.4.0 tqdm-4.46.1 wasabi-0.6.0\n"
    },
    {
     "output_type": "error",
     "ename": "ModuleNotFoundError",
     "evalue": "No module named 'config'",
     "traceback": [
      "\u001b[0;31m---------------------------------------------------------------------------\u001b[0m",
      "\u001b[0;31mModuleNotFoundError\u001b[0m                       Traceback (most recent call last)",
      "\u001b[0;32m<ipython-input-4-a7dfeabc5aa7>\u001b[0m in \u001b[0;36m<module>\u001b[0;34m\u001b[0m\n\u001b[1;32m      3\u001b[0m \u001b[0;32mimport\u001b[0m \u001b[0mtweepy\u001b[0m\u001b[0;34m\u001b[0m\u001b[0;34m\u001b[0m\u001b[0m\n\u001b[1;32m      4\u001b[0m \u001b[0;32mimport\u001b[0m \u001b[0mspacy\u001b[0m\u001b[0;34m\u001b[0m\u001b[0;34m\u001b[0m\u001b[0m\n\u001b[0;32m----> 5\u001b[0;31m \u001b[0;32mfrom\u001b[0m \u001b[0mconfig\u001b[0m \u001b[0;32mimport\u001b[0m \u001b[0mCONSUMER_KEY\u001b[0m\u001b[0;34m,\u001b[0m \u001b[0mCONSUMER_SECRET\u001b[0m\u001b[0;34m,\u001b[0m \u001b[0mACCESS_TOKEN\u001b[0m\u001b[0;34m,\u001b[0m \u001b[0mACCESS_TOKEN_SECRET\u001b[0m\u001b[0;34m\u001b[0m\u001b[0;34m\u001b[0m\u001b[0m\n\u001b[0m\u001b[1;32m      6\u001b[0m \u001b[0;34m\u001b[0m\u001b[0m\n\u001b[1;32m      7\u001b[0m \u001b[0mauth\u001b[0m \u001b[0;34m=\u001b[0m \u001b[0mtweepy\u001b[0m\u001b[0;34m.\u001b[0m\u001b[0mOAuthHandler\u001b[0m\u001b[0;34m(\u001b[0m\u001b[0mCONSUMER_KEY\u001b[0m\u001b[0;34m,\u001b[0m \u001b[0mCONSUMER_SECRET\u001b[0m\u001b[0;34m)\u001b[0m\u001b[0;34m\u001b[0m\u001b[0;34m\u001b[0m\u001b[0m\n",
      "\u001b[0;31mModuleNotFoundError\u001b[0m: No module named 'config'"
     ]
    }
   ],
   "source": [
    "!pip install tweepy\n",
    "!pip install spacy\n",
    "import tweepy\n",
    "import spacy\n",
    "from config import CONSUMER_KEY, CONSUMER_SECRET, ACCESS_TOKEN, ACCESS_TOKEN_SECRET\n",
    "\n",
    "auth = tweepy.OAuthHandler(CONSUMER_KEY, CONSUMER_SECRET)\n",
    "auth.set_access_token(ACCESS_TOKEN, ACCESS_TOKEN_SECRET)\n",
    "\n",
    "api = tweepy.API(auth)"
   ]
  },
  {
   "cell_type": "code",
   "execution_count": 5,
   "metadata": {},
   "outputs": [
    {
     "output_type": "error",
     "ename": "NameError",
     "evalue": "name 'api' is not defined",
     "traceback": [
      "\u001b[0;31m---------------------------------------------------------------------------\u001b[0m",
      "\u001b[0;31mNameError\u001b[0m                                 Traceback (most recent call last)",
      "\u001b[0;32m<ipython-input-5-d1f1bd116c28>\u001b[0m in \u001b[0;36m<module>\u001b[0;34m\u001b[0m\n\u001b[0;32m----> 1\u001b[0;31m \u001b[0mtimeline\u001b[0m \u001b[0;34m=\u001b[0m \u001b[0mapi\u001b[0m\u001b[0;34m.\u001b[0m\u001b[0muser_timeline\u001b[0m\u001b[0;34m(\u001b[0m\u001b[0;34m'visakanv'\u001b[0m\u001b[0;34m)\u001b[0m\u001b[0;34m\u001b[0m\u001b[0;34m\u001b[0m\u001b[0m\n\u001b[0m",
      "\u001b[0;31mNameError\u001b[0m: name 'api' is not defined"
     ]
    }
   ],
   "source": [
    "timeline = api.user_timeline('visakanv')"
   ]
  },
  {
   "cell_type": "code",
   "execution_count": 8,
   "metadata": {},
   "outputs": [],
   "source": [
    "tweets = []\n",
    "for tweet in timeline:\n",
    "    tweets.append(tweet.text)"
   ]
  },
  {
   "cell_type": "code",
   "execution_count": 9,
   "metadata": {},
   "outputs": [
    {
     "data": {
      "text/plain": "['@2davidjames No idea about direct causation, but I believe a lot of mental health issues are associated with sleep… https://t.co/QP4r803vbJ',\n '@nikillinit Made with free range spiders',\n '@Suhail Just tested, no. Only desktop',\n '@Suhail CMD+[number] to select between different workspaces',\n '@Mat_Sherman Talk shows are generally not recorded like podcasts so they want to always be having a conversation. P… https://t.co/yVB66CtJOM',\n '@eriktorenberg Interesting thought. I think of \"belonging\" more like \"not below some status threshold within a grou… https://t.co/T0EhGspOC5',\n '@CaptainHooked @LambdaSchool Probably the diversity of the student backgrounds. Some have extensive software engine… https://t.co/NErrHunek3',\n '@Altimor Not a book, but there is this collection https://t.co/FOVdSccPsl',\n 'Meditation is cool, but have you ever tried closing all your tabs?',\n \"RT @davidklaing: The main problem with education isn't that we teach the wrong subjects, or that we teach the right ones in the wrong way.…\",\n \"@johncalhoom You follow a lot of the same people I do. If you have any questions about Lambda, I'd be happy to answer\",\n '@patrissimo The idea of reproducible experiments removed the dependence on centralized truth.\\n\\nScientists mine trut… https://t.co/7S8j635gGI',\n '@brobbs753 @EdLatimore There are a lot of courses for other valuable skills such as engineering, coding, and busine… https://t.co/yEBN1YbaTm',\n \"@aaron_etc Good point, I'm not sure. It seems like that probably was true but I think the stigma around therapy has… https://t.co/BXO7Achf4B\",\n \"@LincolnTakahas1 @EdLatimore Hmm, I think social skills would still improve faster with deliberate practice. It's a… https://t.co/UbJe8B4Xrm\",\n '@LincolnTakahas1 @EdLatimore How would someone get that for free?\\n\\nI strongly suspect that having an expert evaluat… https://t.co/KnGNCUjWLP',\n '@to_your_point Ah, great point! My impression is that the biggest markets for social skills are in management train… https://t.co/ZsZ7xzE8ic',\n 'Still seems like there might be enough private returns to make classes worth it without the signalling, but if ever… https://t.co/yBtS4fCGc3',\n 'This fits with education being mostly about signalling; taking social skills classes is probably a negative signal of social skills',\n \"It's weird that there isn't more of a market for learning/teaching social skills.\\n\\nRelationships are the most impor… https://t.co/bxpsqMO5js\"]"
     },
     "execution_count": 9,
     "metadata": {},
     "output_type": "execute_result"
    }
   ],
   "source": [
    "tweets"
   ]
  },
  {
   "cell_type": "code",
   "execution_count": 10,
   "metadata": {},
   "outputs": [
    {
     "data": {
      "text/plain": "<tweepy.cursor.Cursor at 0x113a4f590>"
     },
     "execution_count": 10,
     "metadata": {},
     "output_type": "execute_result"
    }
   ],
   "source": []
  },
  {
   "cell_type": "code",
   "execution_count": 13,
   "metadata": {},
   "outputs": [],
   "source": [
    "tweets = []\n",
    "\n",
    "# Only iterate through the first 100 statuses\n",
    "for status in tweepy.Cursor(api.user_timeline, id=\"genuine_doubt\").items(100):\n",
    "    tweets.append(status.text)"
   ]
  },
  {
   "cell_type": "code",
   "execution_count": 14,
   "metadata": {},
   "outputs": [
    {
     "data": {
      "text/plain": "['@2davidjames No idea about direct causation, but I believe a lot of mental health issues are associated with sleep… https://t.co/QP4r803vbJ',\n '@nikillinit Made with free range spiders',\n '@Suhail Just tested, no. Only desktop',\n '@Suhail CMD+[number] to select between different workspaces',\n '@Mat_Sherman Talk shows are generally not recorded like podcasts so they want to always be having a conversation. P… https://t.co/yVB66CtJOM',\n '@eriktorenberg Interesting thought. I think of \"belonging\" more like \"not below some status threshold within a grou… https://t.co/T0EhGspOC5',\n '@CaptainHooked @LambdaSchool Probably the diversity of the student backgrounds. Some have extensive software engine… https://t.co/NErrHunek3',\n '@Altimor Not a book, but there is this collection https://t.co/FOVdSccPsl',\n 'Meditation is cool, but have you ever tried closing all your tabs?',\n \"RT @davidklaing: The main problem with education isn't that we teach the wrong subjects, or that we teach the right ones in the wrong way.…\",\n \"@johncalhoom You follow a lot of the same people I do. If you have any questions about Lambda, I'd be happy to answer\",\n '@patrissimo The idea of reproducible experiments removed the dependence on centralized truth.\\n\\nScientists mine trut… https://t.co/7S8j635gGI',\n '@brobbs753 @EdLatimore There are a lot of courses for other valuable skills such as engineering, coding, and busine… https://t.co/yEBN1YbaTm',\n \"@aaron_etc Good point, I'm not sure. It seems like that probably was true but I think the stigma around therapy has… https://t.co/BXO7Achf4B\",\n \"@LincolnTakahas1 @EdLatimore Hmm, I think social skills would still improve faster with deliberate practice. It's a… https://t.co/UbJe8B4Xrm\",\n '@LincolnTakahas1 @EdLatimore How would someone get that for free?\\n\\nI strongly suspect that having an expert evaluat… https://t.co/KnGNCUjWLP',\n '@to_your_point Ah, great point! My impression is that the biggest markets for social skills are in management train… https://t.co/ZsZ7xzE8ic',\n 'Still seems like there might be enough private returns to make classes worth it without the signalling, but if ever… https://t.co/yBtS4fCGc3',\n 'This fits with education being mostly about signalling; taking social skills classes is probably a negative signal of social skills',\n \"It's weird that there isn't more of a market for learning/teaching social skills.\\n\\nRelationships are the most impor… https://t.co/bxpsqMO5js\",\n '@tjrwriting https://t.co/RYgGYXns9o',\n '@KarlMaeser Huh, I read Superintelligence and found it convincing. Interested in reading other views though, anything you would point to?',\n \"@KarlMaeser And yes, now that teachers can have such broad reach online I think there's a lot of potential impact t… https://t.co/gXcBWHFZGo\",\n \"@KarlMaeser I agree with the point about AI but I'm not sure there's a singular person driving that in the same way… https://t.co/4RJ0CcRZl9\",\n '@KarlMaeser Excellent suggestions. \\n\\nFrom a particular frame where the vast majority of the value is in the future… https://t.co/NnaK4MZXDJ',\n 'How many people even arguably have had a greater positive impact on the world than Bill Gates?\\n\\nNorman Borlaug, Sta… https://t.co/0jejegIs3S',\n '@auren I wonder if intentionally adding typos would increase performance. Trades off credibility for appearing non-automated',\n '@jackbutcher Like a mullet 🙂',\n 'As the launch date approached though, it must have become more clear that Apple would deliver https://t.co/BaEWlfdnwp',\n \"Seems like Wall Street didn't believe Apple could deliver on the promises\\n\\nhttps://t.co/5lTo1Eq2xU\",\n 'When Jobs announced the first iPhone, Apple shares spiked... but quickly reverted to where they were pre-announceme… https://t.co/3NGuVAED8V',\n '@davidklaing I think another thing all of those places had in common was that they served as an entry point. They a… https://t.co/yhMWt3htBG',\n '@davidklaing Yeah, probably not interesting to most. When I started reading it in middle school though, it was a gr… https://t.co/bSA90dHiMx',\n \"@davidklaing Interestingly, books don't come to mind. Places where I repeatedly encountered a worldview do though.… https://t.co/spPlBPxH5c\",\n \"I've started using @rescuetime recently to track how I spend time across my phone/computer. Interesting numbers and… https://t.co/4qthF2mxId\",\n \"@rishmishra No experience with this, but if it was true, wouldn't that add incentive for investors to give critical… https://t.co/EUiJlx2VSF\",\n '@visakanv Billy McFarland too?',\n \"RT @robertwiblin: We've now replaced our old career guide with this summary of all our key ideas and conclusions.\\n\\nWe cover the most useful…\",\n '@semil Airbnb\\nAirtable\\nAirwallex',\n '@avram_twitchell Thanks!',\n \"@robertwiblin But you'll definitely still be using the same calendar system 🙂\",\n '@neozero497 @CorridorDigital @aluxcom @MKBHD @F1 @RamseyShow @smartereveryday @wendoverpro @Erdayastronaut… https://t.co/dCeT9DFuk3',\n '@marionnjoya This looks great, thanks!',\n '@tjrwriting Yes, definitely! Just getting into Youtube but this is one of my early favorites',\n 'What are good Youtube channels to check out?\\n\\nEntertaining or informational, ideally both.',\n '@teodeez This was one attempt in that direction:\\nhttps://t.co/idARznoZy1\\n\\nExclusively for dating though, and probab… https://t.co/PXWWvEkvlC',\n 'Apparently, there were no outlets originally, so people screwed appliances into lightbulb sockets',\n 'The killer app for electricity was the lightbulb\\n\\n-Jeff Bezos',\n '@DavisKermitt I think disposable diapers have an argument too haha',\n \"By far the best intro to bitcoin I've seen:\\nhttps://t.co/CuQDcpcUf5\\n\\nh/t @MaxKajiwara\",\n \"@davidklaing I think that's a lot of it. Conversely, if someone thinks they're on the verge of getting fired they'r… https://t.co/veffpV0lsJ\",\n '@davidklaing Hmm, yeah, some questions are more \"look at this clever thing I thought of\". The countersignalling poi… https://t.co/UVNtqfm4rN',\n 'Questions trade status for information',\n 'Recruiting firms but with incentives aligned with workers https://t.co/ertVFBPJro',\n \"We've gotten effective infrastructure for creating online communities but not for translating that to in-person rel… https://t.co/DreXa0NUcI\",\n '@Johnny_Uzan Try to improve the universe',\n '@AdeleDeweyLopez https://t.co/JY8VpdmVHp',\n 'RT @george__mack: 2 minutes and 41 seconds that’ll change your day \\n\\nhttps://t.co/rvPlq8y7X4',\n '@jamesg_oca Less \"find your passion\", more \"work on things you care about\"',\n '@Altimor Totally agree on the power of soft incentives. Anything you would recommend to learn more about how to des… https://t.co/qw1zEJGR3W',\n \"@MrJamesQuiambao @kevinakwok @balajis Applied and didn't hear back, but I've seen others get funded\",\n '@kevinakwok @balajis Thiel is doing this with the Thiel Fellowships and Emergent Ventures:\\nhttps://t.co/vFNI0s9Qjw',\n '@fortelabs Courses should focus on getting students in positive feedback loops.\\n\\nDesign the course to maximize stud… https://t.co/RXDEKpSKe9',\n \"@CarlosBanko It's great! Data science is really broad but I'm especially interested in ML\",\n \"@david_perell I wonder if this is them having more energy generally, or working on things they're obsessed about\",\n '@readwiseio is doing interesting things with more intentional spaced repetition of content regardless of the original form',\n 'I wonder how much of the preference for books over other content is due to the spaced repetition forced by the leng… https://t.co/jRb0nIw9yE',\n '@robertwiblin That’s one small step for a man, one giant leap for capitalism',\n 'Analogizing something intangible to a more familiar domain is a great way to transmit an intuitive feel of the inta… https://t.co/RBuOLVqzpU',\n \"@mutual_ayyde In what sense do you mean? Just because something goes to zero marginal cost doesn't = communism. Res… https://t.co/B9Y9xzvgvb\",\n \"@neozero497 Interesting, I didn't realize the increase in efficiency was determined so much by the algorithm. What… https://t.co/mlKoza7hXS\",\n '@neozero497 This is a great point. I should be thinking about what applications will be limited by humans in the lo… https://t.co/n887WSfsWu',\n '@neozero497 The article (that was admittedly buried by RTs) mentions a reduction in compute time from 10,000 years… https://t.co/HmzhiKucy3',\n '@neozero497 Hmm, I don\\'t know that advances in quantum computing would \"democratize\" computing power availability.… https://t.co/dj31VHLHDz',\n '@neozero497 Agree, the returns to specific knowledge about how to use the compute likely increase significantly',\n 'What becomes economically feasible when all current compute expenses become essentially free?\\n\\nWhat advances in ML… https://t.co/OegECeRgfU',\n '@jamesg_oca Who do you think college is best for?',\n '@__zacha__ @rrherr I explore random forests and play with pandas',\n 'RT @david_perell: ~ Surprise! ~\\n\\nI’m thinking of launching a long-form writing fellowship.\\n\\n8-10 brilliant minds.\\n\\nEverybody would write a…',\n '@thogge Greater rewards outside of politics for the peaches but not the lemons',\n '@asteroid_saku Snapchat also flips the pictures so they look like what you see in the mirror, not what other people… https://t.co/nGUAQf9CKl',\n 'Love this heuristic for evaluating people from @bhorowitz:\\n\\n\"Who will I trust when they say I am headed in the wrong direction?\"',\n \"@mckaywrigley Totally agree, but I'm not sure how to change the incentive structure around media to fix it. Newer h… https://t.co/kk4sxspkGe\",\n '@auren @neutronsNeurons Seems like reference checks are best for assessing character',\n '@alexeyguzey Beautiful, subscribed :)',\n \"@delysis Impressive, seems like it'd be tricky to scale but clearly they've found a way to make it work\",\n '@delysis I like this and am generally a fan of giving people agency to solve their own problems. One of the reasons… https://t.co/jLBCpEWgTR',\n '@delysis No, have a good link handy?',\n '@frankbudesa Wow, I had no idea. Do you know why the big gap between that and SpaceX?',\n 'Underrated skills:\\n\\n-Choosing when to use proxies vs. think from 1st principles\\n\\n-Assessing proxy credibility in a… https://t.co/AHegNFYzBl',\n 'One of the best things about coding is that you usually get immediate feedback.\\n\\nKey to improving quickly in any field',\n \"@yashkaf @axiomaticdoubts Interesting, I wonder how much of the age difference would go away if you didn't count books read for school\",\n \"@david_perell @antoniogm @LambdaSchool I don't have a solution, but I think there are a lot of programs in the same… https://t.co/ofCrlzoyU6\",\n '@asteroid_saku I know the article was using Uber as a way to talk about a class of companies but, Uber is different… https://t.co/9b0Ac5F6uo',\n \"@DanHigbie Yeah, I don't agree with that statement but it does improve on both direct and representative democracy.\",\n \"I'd love to see more organizations experiment with governance mechanisms.\\n\\nEspecially promising options:\\nFutarchy -… https://t.co/QXXNd8PXpT\",\n \"I wonder how much of the iPhone's 3 camera design is due to functionality vs improving it as a status signal.\\n\\nIt's… https://t.co/BlSSmmIHoi\",\n \"@noreallyimfine @paulg Fair point. It's kind of a separate issue but it can be difficult to find good older content… https://t.co/TKeNLPMl01\",\n \"@jasonfried Hmm, I'm guessing the reason that isn't the default is it could remove something important currently in the clipboard\",\n 'RT @shl: Ask people the questions you wish people asked you.']"
     },
     "execution_count": 14,
     "metadata": {},
     "output_type": "execute_result"
    }
   ],
   "source": [
    "tweets"
   ]
  },
  {
   "cell_type": "code",
   "execution_count": 61,
   "metadata": {},
   "outputs": [],
   "source": [
    "from pattern.web import Twitter"
   ]
  },
  {
   "cell_type": "code",
   "execution_count": 62,
   "metadata": {},
   "outputs": [],
   "source": [
    "twitter = Twitter()"
   ]
  },
  {
   "cell_type": "code",
   "execution_count": 77,
   "metadata": {},
   "outputs": [],
   "source": [
    "search = []\n",
    "for tweet in twitter.profile('@genuine_doubt'):\n",
    "    search.append(tweet)"
   ]
  },
  {
   "cell_type": "code",
   "execution_count": 75,
   "metadata": {},
   "outputs": [
    {
     "data": {
      "text/plain": "dict_items([('url', 'https://twitter.com/david_doswell/status/1196886943528706048'), ('id', '1196886943528706048'), ('title', ''), ('text', '@genuine_doubt @eriktorenberg Status is 100% zero sum. Status is not about identity within a group but leverage.'), ('language', 'en'), ('author', 'david_doswell'), ('date', 'Tue Nov 19 20:24:19 +0000 2019'), ('votes', 0), ('shares', 0), ('comments', 0), ('profile', 'http://pbs.twimg.com/profile_images/1169089013765918720/qBfAVpjm_normal.jpg')])"
     },
     "execution_count": 75,
     "metadata": {},
     "output_type": "execute_result"
    }
   ],
   "source": [
    "twitter."
   ]
  },
  {
   "cell_type": "code",
   "execution_count": 78,
   "metadata": {},
   "outputs": [
    {
     "data": {
      "text/plain": "Result({'url': 'https://www.twitter.com/genuine_doubt', 'id': '1097624696319660032', 'text': 'Currently learning about data science at @lambdaschool. Previously @thepillclub.', 'date': 'Mon Feb 18 22:31:35 +0000 2019', 'handle': 'genuine_doubt', 'name': 'Scott Huston', 'locale': 'Redwood City, CA', 'picture': 'http://pbs.twimg.com/profile_images/1175523991278145536/JSvzpayk_normal.jpg', 'friends': 3171, 'posts': 246})"
     },
     "execution_count": 78,
     "metadata": {},
     "output_type": "execute_result"
    }
   ],
   "source": [
    "search[0]"
   ]
  },
  {
   "cell_type": "code",
   "execution_count": null,
   "metadata": {},
   "outputs": [],
   "source": []
  }
 ],
 "metadata": {
  "language_info": {
   "name": "python",
   "codemirror_mode": {
    "name": "ipython",
    "version": 3
   },
   "version": "3.7.7-final"
  },
  "orig_nbformat": 2,
  "file_extension": ".py",
  "mimetype": "text/x-python",
  "name": "python",
  "npconvert_exporter": "python",
  "pygments_lexer": "ipython3",
  "version": 3,
  "kernelspec": {
   "name": "python37764bitcovidconda7b7527ae49364ce195a91e86bc5f6e51",
   "display_name": "Python 3.7.7 64-bit ('covid': conda)"
  }
 },
 "nbformat": 4,
 "nbformat_minor": 2
}