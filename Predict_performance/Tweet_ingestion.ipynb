{
 "cells": [
  {
   "cell_type": "code",
   "execution_count": 63,
   "metadata": {
    "tags": []
   },
   "outputs": [],
   "source": [
    "import requests\n",
    "from config import BEARER_TOKEN\n",
    "\n",
    "\n",
    "# headers = {\n",
    "#     'Authorization': f'Bearer {BEARER_TOKEN}',\n",
    "# }\n",
    "\n",
    "# params = (\n",
    "#     ('query', 'python'),\n",
    "#     ('max_results', '10'),\n",
    "#     ('tweet.fields', 'created_at,lang,conversation_id'),\n",
    "# )\n",
    "\n",
    "# response = requests.get('https://api.twitter.com/2/tweets/search/recent', headers=headers, params=params)\n",
    "\n",
    "headers = {\n",
    "    'authorization': f'Bearer {BEARER_TOKEN}',\n",
    "}\n",
    "\n",
    "params = (\n",
    "    ('query', '\"100 billion company\" -is:retweet'),\n",
    "    # ('expansions', 'author_id'),\n",
    "    ('tweet.fields', 'public_metrics'),\n",
    "    ('end_time', '2020-08-22T00:00:00Z'), # filtering out recent tweets to exclude tweets still getting likes/RTs, must be within 7 days\n",
    "    ('max_results', '100')\n",
    ")\n",
    "\n",
    "response = requests.get('https://api.twitter.com/2/tweets/search/recent', headers=headers, params=params)\n",
    "\n",
    "if response.status_code is not 200:\n",
    "    raise Exception(f\"Request reurned an error: %s\" % (response.status_code, response.text))"
   ]
  },
  {
   "cell_type": "code",
   "execution_count": 64,
   "metadata": {},
   "outputs": [
    {
     "output_type": "execute_result",
     "data": {
      "text/plain": "b'{\"data\":[{\"id\":\"1296455122323742720\",\"public_metrics\":{\"retweet_count\":0,\"reply_count\":0,\"like_count\":2,\"quote_count\":0},\"text\":\"$W still holding from 26.41$. Hope followers listened.\\\\n\\\\nI will reiterate , $W will be a 100 Billion $ company within 3-5 years. Even at 100B$ that would only be at 7X Sales. https://t.co/82Ox4KAXBf\"},{\"id\":\"1296001502381834241\",\"public_metrics\":{\"retweet_count\":0,\"reply_count\":1,\"like_count\":0,\"quote_count\":0},\"text\":\"5/ This is a 25% comp for a $100 billion company. \\\\n \\\\n So just last week or early this week I raised my numbers to what I thought was a high 12-14%.\"},{\"id\":\"1295986403227185152\",\"public_metrics\":{\"retweet_count\":0,\"reply_count\":1,\"like_count\":0,\"quote_count\":0},\"text\":\"5/ This is a 25% comp for a $100 billion company. \\\\n \\\\n So just last week or early this week I raised my numbers to what I thought was a high 12-14%.\"},{\"id\":\"1295957565139046401\",\"public_metrics\":{\"retweet_count\":0,\"reply_count\":1,\"like_count\":0,\"quote_count\":0},\"text\":\"@WolfofMStreet @RodYurof @lauren_kalo They didn\\'t miss anything. \\\\\"Sophisticated investors\\\\\" said it was a retail play in a hot space &amp; proclaimed Nikola was the next $100 billion company... &amp; those \\\\\"sophisticated investors\\\\\" are all unloading their $NKLA shares onto RH investors that Trevor admitted he was targetting\"},{\"id\":\"1295876468925296640\",\"public_metrics\":{\"retweet_count\":0,\"reply_count\":0,\"like_count\":3,\"quote_count\":0},\"text\":\"Prediction: @pagerduty will be a $100 Billion company when it makes strides to improve the legacy pager systems of health care and public safety. The transformation will happen over the next 4 years.\"},{\"id\":\"1295794646392754179\",\"public_metrics\":{\"retweet_count\":0,\"reply_count\":0,\"like_count\":1,\"quote_count\":0},\"text\":\"and now that the glitch finally fixed itself my size is sold out Pouting face \\\\n\\\\nyou think a $100 billion company would have a working  website\"}],\"meta\":{\"newest_id\":\"1296455122323742720\",\"oldest_id\":\"1295794646392754179\",\"result_count\":6}}'"
     },
     "metadata": {},
     "execution_count": 64
    }
   ],
   "source": [
    "response.content"
   ]
  },
  {
   "cell_type": "code",
   "execution_count": 65,
   "metadata": {
    "tags": []
   },
   "outputs": [
    {
     "output_type": "stream",
     "name": "stdout",
     "text": "{\n  \"data\": [\n    {\n      \"id\": \"1296455122323742720\",\n      \"public_metrics\": {\n        \"like_count\": 2,\n        \"quote_count\": 0,\n        \"reply_count\": 0,\n        \"retweet_count\": 0\n      },\n      \"text\": \"$W still holding from 26.41$. Hope followers listened.\\n\\nI will reiterate , $W will be a 100 Billion $ company within 3-5 years. Even at 100B$ that would only be at 7X Sales. https://t.co/82Ox4KAXBf\"\n    },\n    {\n      \"id\": \"1296001502381834241\",\n      \"public_metrics\": {\n        \"like_count\": 0,\n        \"quote_count\": 0,\n        \"reply_count\": 1,\n        \"retweet_count\": 0\n      },\n      \"text\": \"5/ This is a 25% comp for a $100 billion company. \\n \\n So just last week or early this week I raised my numbers to what I thought was a high 12-14%.\"\n    },\n    {\n      \"id\": \"1295986403227185152\",\n      \"public_metrics\": {\n        \"like_count\": 0,\n        \"quote_count\": 0,\n        \"reply_count\": 1,\n        \"retweet_count\": 0\n      },\n      \"text\": \"5/ This is a 25% comp for a $100 billion company. \\n \\n So just last week or early this week I raised my numbers to what I thought was a high 12-14%.\"\n    },\n    {\n      \"id\": \"1295957565139046401\",\n      \"public_metrics\": {\n        \"like_count\": 0,\n        \"quote_count\": 0,\n        \"reply_count\": 1,\n        \"retweet_count\": 0\n      },\n      \"text\": \"@WolfofMStreet @RodYurof @lauren_kalo They didn't miss anything. \\\"Sophisticated investors\\\" said it was a retail play in a hot space &amp; proclaimed Nikola was the next $100 billion company... &amp; those \\\"sophisticated investors\\\" are all unloading their $NKLA shares onto RH investors that Trevor admitted he was targetting\"\n    },\n    {\n      \"id\": \"1295876468925296640\",\n      \"public_metrics\": {\n        \"like_count\": 3,\n        \"quote_count\": 0,\n        \"reply_count\": 0,\n        \"retweet_count\": 0\n      },\n      \"text\": \"Prediction: @pagerduty will be a $100 Billion company when it makes strides to improve the legacy pager systems of health care and public safety. The transformation will happen over the next 4 years.\"\n    },\n    {\n      \"id\": \"1295794646392754179\",\n      \"public_metrics\": {\n        \"like_count\": 1,\n        \"quote_count\": 0,\n        \"reply_count\": 0,\n        \"retweet_count\": 0\n      },\n      \"text\": \"and now that the glitch finally fixed itself my size is sold out Pouting face \\n\\nyou think a $100 billion company would have a working  website\"\n    }\n  ],\n  \"meta\": {\n    \"newest_id\": \"1296455122323742720\",\n    \"oldest_id\": \"1295794646392754179\",\n    \"result_count\": 6\n  }\n}\n"
    }
   ],
   "source": [
    "#Display the returned Tweet JSON.\n",
    "parsed = json.loads(response.text)\n",
    "pretty_print = json.dumps(parsed, indent=2, sort_keys=True)\n",
    "print (pretty_print)"
   ]
  },
  {
   "cell_type": "code",
   "execution_count": 42,
   "metadata": {},
   "outputs": [
    {
     "output_type": "execute_result",
     "data": {
      "text/plain": "'{\\n  \"data\": [\\n    {\\n      \"id\": \"1298074851102593031\",\\n      \"public_metrics\": {\\n        \"like_count\": 0,\\n        \"quote_count\": 0,\\n        \"reply_count\": 0,\\n        \"retweet_count\": 192\\n      },\\n      \"text\": \"RT @billboard: .@iamcardib and @theestallion\\'s #WAP tops the Billboard #Hot100 chart for a second week.  \\\\n\\\\nhttps://t.co/fsah45HKwG\"\\n    },\\n    {\\n      \"id\": \"1298074805862666240\",\\n      \"public_metrics\": {\\n        \"like_count\": 0,\\n        \"quote_count\": 0,\\n        \"reply_count\": 0,\\n        \"retweet_count\": 639\\n      },\\n      \"text\": \"RT @bananocoin: Annoyed by high gas fees? No worries, next-generation DAG coins don\\'t require fees.\\\\nLike $BANANO. Plus, $BAN is distributed\\\\u2026\"\\n    },\\n    {\\n      \"id\": \"1298074693472321536\",\\n      \"public_metrics\": {\\n        \"like_count\": 0,\\n        \"quote_count\": 0,\\n        \"reply_count\": 0,\\n        \"retweet_count\": 48\\n      },\\n      \"text\": \"RT @CardiStats: .@iamcardib &amp; @theestallion\\\\u2019s \\\\u201cWAP\\\\u201d has now surpassed 100 million streams on Spotify.\\\\n\\\\n\\\\u2022 Fastest female rap song to achieve\\\\u2026\"\\n    },\\n    {\\n      \"id\": \"1298074673373155328\",\\n      \"public_metrics\": {\\n        \"like_count\": 0,\\n        \"quote_count\": 0,\\n        \"reply_count\": 0,\\n        \"retweet_count\": 80\\n      },\\n      \"text\": \"RT @BMW: Off. Road. Time.\\\\n#TheX3\\\\n\\\\nThe #BMW X3 M40i.\\\\nFuel consumption (combined): 8.2\\\\u20137.9 l/100 km. CO\\\\u2082 emissions (combined): 188\\\\u2013180 g/km.\\\\u2026\"\\n    },\\n    {\\n      \"id\": \"1298074658181271552\",\\n      \"public_metrics\": {\\n        \"like_count\": 0,\\n        \"quote_count\": 0,\\n        \"reply_count\": 0,\\n        \"retweet_count\": 330\\n      },\\n      \"text\": \"RT @REALSTARKS27: Fellas, if she fine af with no man? She got a 100 men.\\\\n -W.E.B. DuBoise\"\\n    },\\n    {\\n      \"id\": \"1298074647322406915\",\\n      \"public_metrics\": {\\n        \"like_count\": 0,\\n        \"quote_count\": 0,\\n        \"reply_count\": 0,\\n        \"retweet_count\": 48\\n      },\\n      \"text\": \"RT @CardiStats: .@iamcardib &amp; @theestallion\\\\u2019s \\\\u201cWAP\\\\u201d has now surpassed 100 million streams on Spotify.\\\\n\\\\n\\\\u2022 Fastest female rap song to achieve\\\\u2026\"\\n    },\\n    {\\n      \"id\": \"1298074598001356800\",\\n      \"public_metrics\": {\\n        \"like_count\": 0,\\n        \"quote_count\": 0,\\n        \"reply_count\": 0,\\n        \"retweet_count\": 22\\n      },\\n      \"text\": \"RT @exolsvotinguide: \\\\u2757VOTE FOR #CHANYEOL \\\\u2757\\\\n\\\\nExol\\'s please upvote , he has dropped to 2nd but the gap is small\\\\n\\\\nThis vote ends TODAY!! So vo\\\\u2026\"\\n    },\\n    {\\n      \"id\": \"1298074566225547265\",\\n      \"public_metrics\": {\\n        \"like_count\": 0,\\n        \"quote_count\": 0,\\n        \"reply_count\": 0,\\n        \"retweet_count\": 105\\n      },\\n      \"text\": \"RT @billboard: This week\\'s #Hot100 top 10. \\\\ud83d\\\\udcaf\\\\n\\\\nGet the full breakdown here: https://t.co/FsGaBkAWMK https://t.co/dxtlYM5s6J\"\\n    },\\n    {\\n      \"id\": \"1298074393638248448\",\\n      \"public_metrics\": {\\n        \"like_count\": 0,\\n        \"quote_count\": 0,\\n        \"reply_count\": 0,\\n        \"retweet_count\": 44\\n      },\\n      \"text\": \"RT @infoari: PARAB\\\\u00c9NS! \\\\u201cWAP\\\\u201d, de Cardi B e Megan, \\\\u00e9 a primeira m\\\\u00fasica a passar suas duas primeiras semanas de lan\\\\u00e7amento no topo da Hot 100\\\\u2026\"\\n    },\\n    {\\n      \"id\": \"1298074313363533824\",\\n      \"public_metrics\": {\\n        \"like_count\": 0,\\n        \"quote_count\": 0,\\n        \"reply_count\": 0,\\n        \"retweet_count\": 0\\n      },\\n      \"text\": \"n\\\\u00e3o blasfemo qnd digo q se eu tivesse o super c\\\\u00e9rebro do Namjoon, e a mega bundona do jimin mais a conta banc\\\\u00e1ria dos sete junto, 100% dos meus b.o seriam resolvidos ;)\"\\n    }\\n  ],\\n  \"meta\": {\\n    \"newest_id\": \"1298074851102593031\",\\n    \"next_token\": \"b26v89c19zqg8o3fo7mflhycd942ws4u8kuc4knqdtenx\",\\n    \"oldest_id\": \"1298074313363533824\",\\n    \"result_count\": 10\\n  }\\n}'"
     },
     "metadata": {},
     "execution_count": 42
    }
   ],
   "source": [
    "pretty_print"
   ]
  },
  {
   "cell_type": "code",
   "execution_count": 44,
   "metadata": {},
   "outputs": [
    {
     "output_type": "execute_result",
     "data": {
      "text/plain": "10"
     },
     "metadata": {},
     "execution_count": 44
    }
   ],
   "source": [
    "len(parsed['data'])"
   ]
  },
  {
   "cell_type": "code",
   "execution_count": null,
   "metadata": {},
   "outputs": [],
   "source": []
  }
 ],
 "metadata": {
  "language_info": {
   "name": "python",
   "codemirror_mode": {
    "name": "ipython",
    "version": 3
   },
   "version": "3.7.7-final"
  },
  "orig_nbformat": 2,
  "file_extension": ".py",
  "mimetype": "text/x-python",
  "name": "python",
  "npconvert_exporter": "python",
  "pygments_lexer": "ipython3",
  "version": 3,
  "kernelspec": {
   "name": "python37764bitcovidconda7b7527ae49364ce195a91e86bc5f6e51",
   "display_name": "Python 3.7.7 64-bit ('covid': conda)"
  }
 },
 "nbformat": 4,
 "nbformat_minor": 2
}